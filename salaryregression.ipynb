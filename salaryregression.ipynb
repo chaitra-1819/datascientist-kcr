{
 "cells": [
  {
   "cell_type": "code",
   "execution_count": 3,
   "metadata": {},
   "outputs": [
    {
     "data": {
      "text/html": [
       "<div>\n",
       "<style scoped>\n",
       "    .dataframe tbody tr th:only-of-type {\n",
       "        vertical-align: middle;\n",
       "    }\n",
       "\n",
       "    .dataframe tbody tr th {\n",
       "        vertical-align: top;\n",
       "    }\n",
       "\n",
       "    .dataframe thead th {\n",
       "        text-align: right;\n",
       "    }\n",
       "</style>\n",
       "<table border=\"1\" class=\"dataframe\">\n",
       "  <thead>\n",
       "    <tr style=\"text-align: right;\">\n",
       "      <th></th>\n",
       "      <th>Unnamed: 0</th>\n",
       "      <th>id</th>\n",
       "      <th>groups</th>\n",
       "      <th>age</th>\n",
       "      <th>healthy_eating</th>\n",
       "      <th>active_lifestyle</th>\n",
       "      <th>salary</th>\n",
       "    </tr>\n",
       "  </thead>\n",
       "  <tbody>\n",
       "    <tr>\n",
       "      <th>0</th>\n",
       "      <td>0</td>\n",
       "      <td>0</td>\n",
       "      <td>A</td>\n",
       "      <td>36</td>\n",
       "      <td>5</td>\n",
       "      <td>5</td>\n",
       "      <td>2297</td>\n",
       "    </tr>\n",
       "    <tr>\n",
       "      <th>1</th>\n",
       "      <td>1</td>\n",
       "      <td>1</td>\n",
       "      <td>A</td>\n",
       "      <td>55</td>\n",
       "      <td>3</td>\n",
       "      <td>5</td>\n",
       "      <td>1134</td>\n",
       "    </tr>\n",
       "    <tr>\n",
       "      <th>2</th>\n",
       "      <td>2</td>\n",
       "      <td>2</td>\n",
       "      <td>A</td>\n",
       "      <td>61</td>\n",
       "      <td>8</td>\n",
       "      <td>1</td>\n",
       "      <td>4969</td>\n",
       "    </tr>\n",
       "    <tr>\n",
       "      <th>3</th>\n",
       "      <td>3</td>\n",
       "      <td>3</td>\n",
       "      <td>O</td>\n",
       "      <td>29</td>\n",
       "      <td>3</td>\n",
       "      <td>6</td>\n",
       "      <td>902</td>\n",
       "    </tr>\n",
       "    <tr>\n",
       "      <th>4</th>\n",
       "      <td>4</td>\n",
       "      <td>4</td>\n",
       "      <td>O</td>\n",
       "      <td>34</td>\n",
       "      <td>6</td>\n",
       "      <td>2</td>\n",
       "      <td>3574</td>\n",
       "    </tr>\n",
       "    <tr>\n",
       "      <th>...</th>\n",
       "      <td>...</td>\n",
       "      <td>...</td>\n",
       "      <td>...</td>\n",
       "      <td>...</td>\n",
       "      <td>...</td>\n",
       "      <td>...</td>\n",
       "      <td>...</td>\n",
       "    </tr>\n",
       "    <tr>\n",
       "      <th>995</th>\n",
       "      <td>995</td>\n",
       "      <td>995</td>\n",
       "      <td>O</td>\n",
       "      <td>33</td>\n",
       "      <td>7</td>\n",
       "      <td>7</td>\n",
       "      <td>2996</td>\n",
       "    </tr>\n",
       "    <tr>\n",
       "      <th>996</th>\n",
       "      <td>996</td>\n",
       "      <td>996</td>\n",
       "      <td>O</td>\n",
       "      <td>21</td>\n",
       "      <td>1</td>\n",
       "      <td>2</td>\n",
       "      <td>667</td>\n",
       "    </tr>\n",
       "    <tr>\n",
       "      <th>997</th>\n",
       "      <td>997</td>\n",
       "      <td>997</td>\n",
       "      <td>O</td>\n",
       "      <td>49</td>\n",
       "      <td>9</td>\n",
       "      <td>7</td>\n",
       "      <td>4158</td>\n",
       "    </tr>\n",
       "    <tr>\n",
       "      <th>998</th>\n",
       "      <td>998</td>\n",
       "      <td>998</td>\n",
       "      <td>AB</td>\n",
       "      <td>56</td>\n",
       "      <td>6</td>\n",
       "      <td>7</td>\n",
       "      <td>2414</td>\n",
       "    </tr>\n",
       "    <tr>\n",
       "      <th>999</th>\n",
       "      <td>999</td>\n",
       "      <td>999</td>\n",
       "      <td>B</td>\n",
       "      <td>64</td>\n",
       "      <td>4</td>\n",
       "      <td>9</td>\n",
       "      <td>788</td>\n",
       "    </tr>\n",
       "  </tbody>\n",
       "</table>\n",
       "<p>1000 rows × 7 columns</p>\n",
       "</div>"
      ],
      "text/plain": [
       "     Unnamed: 0   id groups  age  healthy_eating  active_lifestyle  salary\n",
       "0             0    0      A   36               5                 5    2297\n",
       "1             1    1      A   55               3                 5    1134\n",
       "2             2    2      A   61               8                 1    4969\n",
       "3             3    3      O   29               3                 6     902\n",
       "4             4    4      O   34               6                 2    3574\n",
       "..          ...  ...    ...  ...             ...               ...     ...\n",
       "995         995  995      O   33               7                 7    2996\n",
       "996         996  996      O   21               1                 2     667\n",
       "997         997  997      O   49               9                 7    4158\n",
       "998         998  998     AB   56               6                 7    2414\n",
       "999         999  999      B   64               4                 9     788\n",
       "\n",
       "[1000 rows x 7 columns]"
      ]
     },
     "execution_count": 3,
     "metadata": {},
     "output_type": "execute_result"
    }
   ],
   "source": [
    "import pandas as pd\n",
    "df=pd.read_csv(\"employee_salary_data.csv\")\n",
    "df"
   ]
  },
  {
   "cell_type": "code",
   "execution_count": 8,
   "metadata": {},
   "outputs": [
    {
     "data": {
      "image/png": "[encoded data removed]",
      "text/plain": [
       "<Figure size 432x288 with 2 Axes>"
      ]
     },
     "metadata": {
      "needs_background": "light"
     },
     "output_type": "display_data"
    }
   ],
   "source": [
    "import seaborn as sns\n",
    "import matplotlib.pyplot as plt\n",
    "sns.heatmap(df.isnull(),annot=True)\n",
    "plt.show()"
   ]
  },
  {
   "cell_type": "code",
   "execution_count": 9,
   "metadata": {},
   "outputs": [
    {
     "data": {
      "text/plain": [
       "Unnamed: 0          0\n",
       "id                  0\n",
       "groups              0\n",
       "age                 0\n",
       "healthy_eating      0\n",
       "active_lifestyle    0\n",
       "salary              0\n",
       "dtype: int64"
      ]
     },
     "execution_count": 9,
     "metadata": {},
     "output_type": "execute_result"
    }
   ],
   "source": [
    "df.isnull().sum()"
   ]
  },
  {
   "cell_type": "code",
   "execution_count": 11,
   "metadata": {},
   "outputs": [
    {
     "data": {
      "text/plain": [
       "Unnamed: 0           int64\n",
       "id                   int64\n",
       "groups              object\n",
       "age                  int64\n",
       "healthy_eating       int64\n",
       "active_lifestyle     int64\n",
       "salary               int64\n",
       "dtype: object"
      ]
     },
     "execution_count": 11,
     "metadata": {},
     "output_type": "execute_result"
    }
   ],
   "source": [
    "df.dtypes"
   ]
  },
  {
   "cell_type": "code",
   "execution_count": 15,
   "metadata": {},
   "outputs": [],
   "source": [
    "from sklearn.preprocessing import LabelEncoder\n",
    "le=LabelEncoder()\n",
    "df['groups']=le.fit_transform(df['groups'])\n"
   ]
  },
  {
   "cell_type": "code",
   "execution_count": 16,
   "metadata": {},
   "outputs": [
    {
     "data": {
      "text/html": [
       "<div>\n",
       "<style scoped>\n",
       "    .dataframe tbody tr th:only-of-type {\n",
       "        vertical-align: middle;\n",
       "    }\n",
       "\n",
       "    .dataframe tbody tr th {\n",
       "        vertical-align: top;\n",
       "    }\n",
       "\n",
       "    .dataframe thead th {\n",
       "        text-align: right;\n",
       "    }\n",
       "</style>\n",
       "<table border=\"1\" class=\"dataframe\">\n",
       "  <thead>\n",
       "    <tr style=\"text-align: right;\">\n",
       "      <th></th>\n",
       "      <th>Unnamed: 0</th>\n",
       "      <th>id</th>\n",
       "      <th>groups</th>\n",
       "      <th>age</th>\n",
       "      <th>healthy_eating</th>\n",
       "      <th>active_lifestyle</th>\n",
       "      <th>salary</th>\n",
       "    </tr>\n",
       "  </thead>\n",
       "  <tbody>\n",
       "    <tr>\n",
       "      <th>0</th>\n",
       "      <td>0</td>\n",
       "      <td>0</td>\n",
       "      <td>0</td>\n",
       "      <td>36</td>\n",
       "      <td>5</td>\n",
       "      <td>5</td>\n",
       "      <td>2297</td>\n",
       "    </tr>\n",
       "    <tr>\n",
       "      <th>1</th>\n",
       "      <td>1</td>\n",
       "      <td>1</td>\n",
       "      <td>0</td>\n",
       "      <td>55</td>\n",
       "      <td>3</td>\n",
       "      <td>5</td>\n",
       "      <td>1134</td>\n",
       "    </tr>\n",
       "    <tr>\n",
       "      <th>2</th>\n",
       "      <td>2</td>\n",
       "      <td>2</td>\n",
       "      <td>0</td>\n",
       "      <td>61</td>\n",
       "      <td>8</td>\n",
       "      <td>1</td>\n",
       "      <td>4969</td>\n",
       "    </tr>\n",
       "    <tr>\n",
       "      <th>3</th>\n",
       "      <td>3</td>\n",
       "      <td>3</td>\n",
       "      <td>3</td>\n",
       "      <td>29</td>\n",
       "      <td>3</td>\n",
       "      <td>6</td>\n",
       "      <td>902</td>\n",
       "    </tr>\n",
       "    <tr>\n",
       "      <th>4</th>\n",
       "      <td>4</td>\n",
       "      <td>4</td>\n",
       "      <td>3</td>\n",
       "      <td>34</td>\n",
       "      <td>6</td>\n",
       "      <td>2</td>\n",
       "      <td>3574</td>\n",
       "    </tr>\n",
       "  </tbody>\n",
       "</table>\n",
       "</div>"
      ],
      "text/plain": [
       "   Unnamed: 0  id  groups  age  healthy_eating  active_lifestyle  salary\n",
       "0           0   0       0   36               5                 5    2297\n",
       "1           1   1       0   55               3                 5    1134\n",
       "2           2   2       0   61               8                 1    4969\n",
       "3           3   3       3   29               3                 6     902\n",
       "4           4   4       3   34               6                 2    3574"
      ]
     },
     "execution_count": 16,
     "metadata": {},
     "output_type": "execute_result"
    }
   ],
   "source": [
    "df.head()"
   ]
  },
  {
   "cell_type": "code",
   "execution_count": 17,
   "metadata": {},
   "outputs": [
    {
     "data": {
      "text/plain": [
       "Unnamed: 0          0.000000\n",
       "id                  0.000000\n",
       "groups              0.000000\n",
       "age                -0.023806\n",
       "healthy_eating      0.000047\n",
       "active_lifestyle   -0.308004\n",
       "salary              0.491404\n",
       "dtype: float64"
      ]
     },
     "execution_count": 17,
     "metadata": {},
     "output_type": "execute_result"
    }
   ],
   "source": [
    "df.skew()"
   ]
  },
  {
   "cell_type": "code",
   "execution_count": 18,
   "metadata": {},
   "outputs": [],
   "source": [
    "x=df.iloc[:,2:-1]"
   ]
  },
  {
   "cell_type": "code",
   "execution_count": 19,
   "metadata": {},
   "outputs": [
    {
     "data": {
      "text/html": [
       "<div>\n",
       "<style scoped>\n",
       "    .dataframe tbody tr th:only-of-type {\n",
       "        vertical-align: middle;\n",
       "    }\n",
       "\n",
       "    .dataframe tbody tr th {\n",
       "        vertical-align: top;\n",
       "    }\n",
       "\n",
       "    .dataframe thead th {\n",
       "        text-align: right;\n",
       "    }\n",
       "</style>\n",
       "<table border=\"1\" class=\"dataframe\">\n",
       "  <thead>\n",
       "    <tr style=\"text-align: right;\">\n",
       "      <th></th>\n",
       "      <th>groups</th>\n",
       "      <th>age</th>\n",
       "      <th>healthy_eating</th>\n",
       "      <th>active_lifestyle</th>\n",
       "    </tr>\n",
       "  </thead>\n",
       "  <tbody>\n",
       "    <tr>\n",
       "      <th>0</th>\n",
       "      <td>0</td>\n",
       "      <td>36</td>\n",
       "      <td>5</td>\n",
       "      <td>5</td>\n",
       "    </tr>\n",
       "    <tr>\n",
       "      <th>1</th>\n",
       "      <td>0</td>\n",
       "      <td>55</td>\n",
       "      <td>3</td>\n",
       "      <td>5</td>\n",
       "    </tr>\n",
       "    <tr>\n",
       "      <th>2</th>\n",
       "      <td>0</td>\n",
       "      <td>61</td>\n",
       "      <td>8</td>\n",
       "      <td>1</td>\n",
       "    </tr>\n",
       "    <tr>\n",
       "      <th>3</th>\n",
       "      <td>3</td>\n",
       "      <td>29</td>\n",
       "      <td>3</td>\n",
       "      <td>6</td>\n",
       "    </tr>\n",
       "    <tr>\n",
       "      <th>4</th>\n",
       "      <td>3</td>\n",
       "      <td>34</td>\n",
       "      <td>6</td>\n",
       "      <td>2</td>\n",
       "    </tr>\n",
       "  </tbody>\n",
       "</table>\n",
       "</div>"
      ],
      "text/plain": [
       "   groups  age  healthy_eating  active_lifestyle\n",
       "0       0   36               5                 5\n",
       "1       0   55               3                 5\n",
       "2       0   61               8                 1\n",
       "3       3   29               3                 6\n",
       "4       3   34               6                 2"
      ]
     },
     "execution_count": 19,
     "metadata": {},
     "output_type": "execute_result"
    }
   ],
   "source": [
    "x.head()"
   ]
  },
  {
   "cell_type": "code",
   "execution_count": 20,
   "metadata": {},
   "outputs": [],
   "source": [
    "y=df.iloc[:,-1]"
   ]
  },
  {
   "cell_type": "code",
   "execution_count": 21,
   "metadata": {},
   "outputs": [
    {
     "data": {
      "text/plain": [
       "0    2297\n",
       "1    1134\n",
       "2    4969\n",
       "3     902\n",
       "4    3574\n",
       "Name: salary, dtype: int64"
      ]
     },
     "execution_count": 21,
     "metadata": {},
     "output_type": "execute_result"
    }
   ],
   "source": [
    "y.head()"
   ]
  },
  {
   "cell_type": "code",
   "execution_count": 22,
   "metadata": {},
   "outputs": [
    {
     "data": {
      "text/plain": [
       "<matplotlib.axes._subplots.AxesSubplot at 0x28aeb0eb488>"
      ]
     },
     "execution_count": 22,
     "metadata": {},
     "output_type": "execute_result"
    },
    {
     "data": {
      "image/png": "[encoded data removed]",
      "text/plain": [
       "<Figure size 432x288 with 1 Axes>"
      ]
     },
     "metadata": {
      "needs_background": "light"
     },
     "output_type": "display_data"
    }
   ],
   "source": [
    "import seaborn as sns\n",
    "sns.barplot(x='groups',y='salary',data=df)"
   ]
  },
  {
   "cell_type": "code",
   "execution_count": 23,
   "metadata": {},
   "outputs": [
    {
     "data": {
      "text/plain": [
       "<matplotlib.axes._subplots.AxesSubplot at 0x28af1f910c8>"
      ]
     },
     "execution_count": 23,
     "metadata": {},
     "output_type": "execute_result"
    },
    {
     "data": {
      "image/png": "[encoded data removed]",
      "text/plain": [
       "<Figure size 432x288 with 1 Axes>"
      ]
     },
     "metadata": {
      "needs_background": "light"
     },
     "output_type": "display_data"
    }
   ],
   "source": [
    "sns.barplot(x='age',y='salary',data=df)"
   ]
  },
  {
   "cell_type": "code",
   "execution_count": 24,
   "metadata": {},
   "outputs": [
    {
     "data": {
      "text/plain": [
       "<matplotlib.axes._subplots.AxesSubplot at 0x28af0b438c8>"
      ]
     },
     "execution_count": 24,
     "metadata": {},
     "output_type": "execute_result"
    },
    {
     "data": {
      "image/png": "[encoded data removed]",
      "text/plain": [
       "<Figure size 432x288 with 1 Axes>"
      ]
     },
     "metadata": {
      "needs_background": "light"
     },
     "output_type": "display_data"
    }
   ],
   "source": [
    "sns.barplot(x='healthy_eating',y='salary',data=df)"
   ]
  },
  {
   "cell_type": "code",
   "execution_count": 25,
   "metadata": {},
   "outputs": [
    {
     "data": {
      "text/plain": [
       "<matplotlib.axes._subplots.AxesSubplot at 0x28aeb6439c8>"
      ]
     },
     "execution_count": 25,
     "metadata": {},
     "output_type": "execute_result"
    },
    {
     "data": {
      "image/png": "[encoded data removed]",
      "text/plain": [
       "<Figure size 432x288 with 1 Axes>"
      ]
     },
     "metadata": {
      "needs_background": "light"
     },
     "output_type": "display_data"
    }
   ],
   "source": [
    "sns.barplot(x='active_lifestyle',y='salary',data=df)"
   ]
  },
  {
   "cell_type": "code",
   "execution_count": 26,
   "metadata": {},
   "outputs": [
    {
     "name": "stdout",
     "output_type": "stream",
     "text": [
      "(1000, 7)\n",
      "(999, 7)\n"
     ]
    }
   ],
   "source": [
    "from scipy.stats import zscore\n",
    "zscore=abs(zscore(df))\n",
    "print(df.shape)\n",
    "df_new=df.loc[(zscore<3).all(axis=1)]\n",
    "print(df_new.shape)"
   ]
  },
  {
   "cell_type": "code",
   "execution_count": 27,
   "metadata": {},
   "outputs": [
    {
     "data": {
      "text/plain": [
       "array([[-1.13389342, -0.38309303,  0.02783053, -0.3335674 ],\n",
       "       [-1.13389342,  1.02888904, -0.96611687, -0.3335674 ],\n",
       "       [-1.13389342,  1.47477811,  1.51875162, -2.28711   ],\n",
       "       ...,\n",
       "       [ 1.13389342,  0.58299996,  2.01572532,  0.6432039 ],\n",
       "       [-0.37796447,  1.10320388,  0.52480423,  0.6432039 ],\n",
       "       [ 0.37796447,  1.69772265, -0.46914317,  1.6199752 ]])"
      ]
     },
     "execution_count": 27,
     "metadata": {},
     "output_type": "execute_result"
    }
   ],
   "source": [
    "from sklearn.preprocessing import StandardScaler\n",
    "sc=StandardScaler()\n",
    "x=sc.fit_transform(x)\n",
    "x"
   ]
  },
  {
   "cell_type": "code",
   "execution_count": 28,
   "metadata": {},
   "outputs": [
    {
     "name": "stdout",
     "output_type": "stream",
     "text": [
      "r2 score correspoinding to r_state 42 is 0.9068662862716251\n",
      "r2 score correspoinding to r_state 43 is 0.8836583202373223\n",
      "r2 score correspoinding to r_state 44 is 0.8631545099888636\n",
      "r2 score correspoinding to r_state 45 is 0.8179065475207432\n",
      "r2 score correspoinding to r_state 46 is 0.9210899362317775\n",
      "r2 score correspoinding to r_state 47 is 0.8618557278623568\n",
      "r2 score correspoinding to r_state 48 is 0.8627554327996082\n",
      "r2 score correspoinding to r_state 49 is 0.8795096344576979\n",
      "r2 score correspoinding to r_state 50 is 0.831488903110273\n",
      "r2 score correspoinding to r_state 51 is 0.7950448789468861\n",
      "r2 score correspoinding to r_state 52 is 0.7886050344791371\n",
      "r2 score correspoinding to r_state 53 is 0.8335947191733215\n",
      "r2 score correspoinding to r_state 54 is 0.893249648843652\n",
      "r2 score correspoinding to r_state 55 is 0.8144414004515826\n",
      "r2 score correspoinding to r_state 56 is 0.8336890979334864\n",
      "r2 score correspoinding to r_state 57 is 0.86614575656623\n",
      "r2 score correspoinding to r_state 58 is 0.8749554455743553\n",
      "r2 score correspoinding to r_state 59 is 0.8052665216859377\n",
      "r2 score correspoinding to r_state 60 is 0.8907587891767614\n",
      "r2 score correspoinding to r_state 61 is 0.8487023687506623\n",
      "r2 score correspoinding to r_state 62 is 0.8430853418244721\n",
      "r2 score correspoinding to r_state 63 is 0.88096498552021\n",
      "r2 score correspoinding to r_state 64 is 0.8414050258130621\n",
      "r2 score correspoinding to r_state 65 is 0.9046756850064187\n",
      "r2 score correspoinding to r_state 66 is 0.8906702953370093\n",
      "r2 score correspoinding to r_state 67 is 0.9298173587175396\n",
      "r2 score correspoinding to r_state 68 is 0.8810075485388862\n",
      "r2 score correspoinding to r_state 69 is 0.8898256574937126\n",
      "r2 score correspoinding to r_state 70 is 0.8676186667660617\n",
      "r2 score correspoinding to r_state 71 is 0.8851622909704233\n",
      "r2 score correspoinding to r_state 72 is 0.8899563177688758\n",
      "r2 score correspoinding to r_state 73 is 0.8172396134906866\n",
      "r2 score correspoinding to r_state 74 is 0.7824686336583618\n",
      "r2 score correspoinding to r_state 75 is 0.9048360539279019\n",
      "r2 score correspoinding to r_state 76 is 0.838754030198299\n",
      "r2 score correspoinding to r_state 77 is 0.8936944099204787\n",
      "r2 score correspoinding to r_state 78 is 0.8612156184328912\n",
      "r2 score correspoinding to r_state 79 is 0.8574101518034078\n",
      "r2 score correspoinding to r_state 80 is 0.8492962876289394\n",
      "r2 score correspoinding to r_state 81 is 0.887213187640288\n",
      "r2 score correspoinding to r_state 82 is 0.8880186347396446\n",
      "r2 score correspoinding to r_state 83 is 0.8235690543491924\n",
      "r2 score correspoinding to r_state 84 is 0.7167591243795138\n",
      "r2 score correspoinding to r_state 85 is 0.844279671413414\n",
      "r2 score correspoinding to r_state 86 is 0.8536105543716825\n",
      "r2 score correspoinding to r_state 87 is 0.902186370974619\n",
      "r2 score correspoinding to r_state 88 is 0.8285701636996837\n",
      "r2 score correspoinding to r_state 89 is 0.8612892535050058\n",
      "r2 score correspoinding to r_state 90 is 0.889689016419115\n",
      "r2 score correspoinding to r_state 91 is 0.8984078202291591\n",
      "r2 score correspoinding to r_state 92 is 0.9260711492027911\n",
      "r2 score correspoinding to r_state 93 is 0.862701174825426\n",
      "r2 score correspoinding to r_state 94 is 0.8778908176269425\n",
      "r2 score correspoinding to r_state 95 is 0.8182291165356874\n",
      "r2 score correspoinding to r_state 96 is 0.8164839417152674\n",
      "r2 score correspoinding to r_state 97 is 0.8505060506958391\n",
      "r2 score correspoinding to r_state 98 is 0.8964149357070383\n",
      "r2 score correspoinding to r_state 99 is 0.9069799034458635\n",
      "r2 score correspoinding to r_state 100 is 0.8317070869107128\n",
      "67\n",
      "0.9298173587175396\n"
     ]
    }
   ],
   "source": [
    "from sklearn.model_selection import train_test_split\n",
    "from sklearn.metrics import mean_absolute_error,mean_squared_error,r2_score\n",
    "from sklearn.linear_model import LinearRegression\n",
    "max_r_score=0\n",
    "for r_state in range(42,101):\n",
    "    x_train,x_test,y_train,y_test=train_test_split(x,y,random_state=r_state,test_size=0.20)\n",
    "    lr=LinearRegression()\n",
    "    lr.fit(x_train,y_train)\n",
    "    y_pred=lr.predict(x_test)\n",
    "    r2_scr=r2_score(y_test,y_pred)\n",
    "    print(\"r2 score correspoinding to r_state\",r_state ,\"is\",r2_scr)\n",
    "    if r2_scr>max_r_score:\n",
    "        max_r_score=r2_scr\n",
    "        final_r_state=r_state\n",
    "        \n",
    "print(final_r_state)\n",
    "print(max_r_score)"
   ]
  },
  {
   "cell_type": "code",
   "execution_count": 29,
   "metadata": {},
   "outputs": [
    {
     "name": "stdout",
     "output_type": "stream",
     "text": [
      "Mean absolute error: 233.16886024732514\n",
      "Mean squared error: 89935.93942409955\n",
      "Root Mean squared error: 299.8932133678579\n",
      "r2_score: 0.9298173587175396\n"
     ]
    }
   ],
   "source": [
    "x_train,x_test,y_train,y_test=train_test_split(x,y,test_size=.2,random_state=67)\n",
    "lr.fit(x_train,y_train)\n",
    "y_pred=lr.predict(x_test)\n",
    "import numpy as np\n",
    "from sklearn.metrics import r2_score\n",
    "print(\"Mean absolute error:\",mean_absolute_error(y_test,y_pred))\n",
    "print(\"Mean squared error:\",mean_squared_error(y_test,y_pred))\n",
    "print(\"Root Mean squared error:\",np.sqrt(mean_squared_error(y_test,y_pred)))\n",
    "print(\"r2_score:\",r2_score(y_test,y_pred))"
   ]
  },
  {
   "cell_type": "code",
   "execution_count": 30,
   "metadata": {},
   "outputs": [
    {
     "data": {
      "text/plain": [
       "array([   2.97705667,   -9.84930088,  912.39104165, -360.88837522])"
      ]
     },
     "execution_count": 30,
     "metadata": {},
     "output_type": "execute_result"
    }
   ],
   "source": [
    "lr.coef_"
   ]
  },
  {
   "cell_type": "code",
   "execution_count": 31,
   "metadata": {},
   "outputs": [
    {
     "data": {
      "text/plain": [
       "2234.7868978103975"
      ]
     },
     "execution_count": 31,
     "metadata": {},
     "output_type": "execute_result"
    }
   ],
   "source": [
    "lr.intercept_\n"
   ]
  },
  {
   "cell_type": "code",
   "execution_count": 34,
   "metadata": {},
   "outputs": [
    {
     "data": {
      "image/png": "[encoded data removed]",
      "text/plain": [
       "<Figure size 432x288 with 1 Axes>"
      ]
     },
     "metadata": {
      "needs_background": "light"
     },
     "output_type": "display_data"
    }
   ],
   "source": [
    "x=pd.DataFrame(data=x)\n",
    "from sklearn.linear_model import Lasso,Ridge\n",
    "ls=Lasso()\n",
    "ls.fit(x_train,y_train)\n",
    "ls.score(x_train,y_train)\n",
    "ls.coef_\n",
    "plt.bar(x.columns,ls.coef_)\n",
    "plt.show()"
   ]
  },
  {
   "cell_type": "code",
   "execution_count": 35,
   "metadata": {},
   "outputs": [
    {
     "data": {
      "image/png": "[encoded data removed]",
      "text/plain": [
       "<Figure size 432x288 with 1 Axes>"
      ]
     },
     "metadata": {
      "needs_background": "light"
     },
     "output_type": "display_data"
    }
   ],
   "source": [
    "rd=Ridge()\n",
    "rd.fit(x_train,y_train)\n",
    "rd.score(x_train,y_train)\n",
    "rd.coef_\n",
    "plt.bar(x.columns,rd.coef_)\n",
    "plt.show()"
   ]
  },
  {
   "cell_type": "code",
   "execution_count": 36,
   "metadata": {},
   "outputs": [
    {
     "data": {
      "image/png": "[encoded data removed]",
      "text/plain": [
       "<Figure size 432x288 with 1 Axes>"
      ]
     },
     "metadata": {
      "needs_background": "light"
     },
     "output_type": "display_data"
    }
   ],
   "source": [
    "from sklearn.linear_model import ElasticNet\n",
    "enr=ElasticNet()\n",
    "enr.fit(x_train,y_train)\n",
    "enr.score(x_train,y_train)\n",
    "enr.coef_\n",
    "plt.bar(x.columns,enr.coef_)\n",
    "plt.show()"
   ]
  },
  {
   "cell_type": "code",
   "execution_count": 37,
   "metadata": {},
   "outputs": [
    {
     "name": "stdout",
     "output_type": "stream",
     "text": [
      "0.6386970274945742\n",
      "0.1759869944701582\n",
      "0.07374822218682131\n"
     ]
    }
   ],
   "source": [
    "from sklearn.svm import SVR\n",
    "kernellist=['linear','poly','rbf']\n",
    "for i in kernellist:\n",
    "    svr=SVR(kernel=i)\n",
    "    svr.fit(x_train,y_train)\n",
    "    print(svr.score(x_train,y_train))"
   ]
  },
  {
   "cell_type": "code",
   "execution_count": 44,
   "metadata": {},
   "outputs": [
    {
     "name": "stdout",
     "output_type": "stream",
     "text": [
      "GridSearchCV(cv=None, error_score=nan,\n",
      "             estimator=Lasso(alpha=1.0, copy_X=True, fit_intercept=True,\n",
      "                             max_iter=1000, normalize=False, positive=False,\n",
      "                             precompute=False, random_state=None,\n",
      "                             selection='cyclic', tol=0.0001, warm_start=False),\n",
      "             iid='deprecated', n_jobs=None,\n",
      "             param_grid={'alpha': [1, 0.1, 0.01, 0.0001, 0.001, 0]},\n",
      "             pre_dispatch='2*n_jobs', refit=True, return_train_score=False,\n",
      "             scoring=None, verbose=0)\n",
      "0.8272147328252819\n",
      "1\n",
      "{'alpha': 1}\n"
     ]
    }
   ],
   "source": [
    "from sklearn.linear_model import Lasso\n",
    "from sklearn.model_selection import GridSearchCV\n",
    "import warnings\n",
    "warnings.filterwarnings('ignore')\n",
    "alphavalue={'alpha':[1,0.1,0.01,0.0001,0.001,0]}\n",
    "model=Lasso()\n",
    "grid=GridSearchCV(estimator=model,param_grid=alphavalue)\n",
    "grid.fit(x_train,y_train)\n",
    "print(grid)\n",
    "print(grid.best_score_)\n",
    "print(grid.best_estimator_.alpha)\n",
    "print(grid.best_params_)\n"
   ]
  },
  {
   "cell_type": "code",
   "execution_count": 45,
   "metadata": {},
   "outputs": [
    {
     "name": "stdout",
     "output_type": "stream",
     "text": [
      "GridSearchCV(cv=None, error_score=nan,\n",
      "             estimator=Ridge(alpha=1.0, copy_X=True, fit_intercept=True,\n",
      "                             max_iter=None, normalize=False, random_state=None,\n",
      "                             solver='auto', tol=0.001),\n",
      "             iid='deprecated', n_jobs=None,\n",
      "             param_grid={'alpha': [1, 0.1, 0.01, 0.0001, 0.001, 0]},\n",
      "             pre_dispatch='2*n_jobs', refit=True, return_train_score=False,\n",
      "             scoring=None, verbose=0)\n",
      "0.8271821303490906\n",
      "1\n",
      "{'alpha': 1}\n"
     ]
    }
   ],
   "source": [
    "from sklearn.linear_model import Ridge\n",
    "from sklearn.model_selection import GridSearchCV\n",
    "import warnings\n",
    "warnings.filterwarnings('ignore')\n",
    "alphavalue={'alpha':[1,0.1,0.01,0.0001,0.001,0]}\n",
    "model=Ridge()\n",
    "grid=GridSearchCV(estimator=model,param_grid=alphavalue)\n",
    "grid.fit(x_train,y_train)\n",
    "print(grid)\n",
    "print(grid.best_score_)\n",
    "print(grid.best_estimator_.alpha)\n",
    "print(grid.best_params_)"
   ]
  },
  {
   "cell_type": "code",
   "execution_count": 47,
   "metadata": {},
   "outputs": [
    {
     "name": "stdout",
     "output_type": "stream",
     "text": [
      "0.9984685732521102\n"
     ]
    }
   ],
   "source": [
    "from sklearn.ensemble import RandomForestRegressor\n",
    "rfr=RandomForestRegressor(n_estimators=100,random_state=45)\n",
    "rfr.fit(x_train,y_train)\n",
    "predrf=rfr.predict(x_test)\n",
    "print(r2_score(y_test,predrf))\n",
    "\n"
   ]
  },
  {
   "cell_type": "code",
   "execution_count": 48,
   "metadata": {},
   "outputs": [
    {
     "name": "stdout",
     "output_type": "stream",
     "text": [
      "0.9356905857149096\n"
     ]
    }
   ],
   "source": [
    "from sklearn.ensemble import AdaBoostRegressor\n",
    "adr=AdaBoostRegressor(n_estimators=50)\n",
    "adr.fit(x_train,y_train)\n",
    "predad=adr.predict(x_test)\n",
    "print(r2_score(y_test,predad))"
   ]
  },
  {
   "cell_type": "code",
   "execution_count": 49,
   "metadata": {},
   "outputs": [
    {
     "name": "stdout",
     "output_type": "stream",
     "text": [
      "[0.91458252 0.82611716 0.8530566  0.83756272 0.82584994 0.82219113\n",
      " 0.87058874 0.90409552]\n",
      "0.8567555397048627\n",
      "0.033998167127413804\n",
      "[0.91438865 0.82634977 0.85308783 0.83752953 0.8259342  0.82227722\n",
      " 0.87038732 0.90402651]\n",
      "0.8567476280089754\n",
      "0.033890001504997734\n",
      "[0.91437386 0.8262274  0.85307838 0.83754759 0.82593428 0.82231988\n",
      " 0.87058935 0.90400063]\n",
      "0.8567589223051773\n",
      "0.033899745229297965\n",
      "[0.99267324 0.99493241 0.99607615 0.9963474  0.99724975 0.99715707\n",
      " 0.99952972 0.99638725]\n",
      "0.9962941249607582\n",
      "0.0018422506673073202\n",
      "[0.90712094 0.90542064 0.91086174 0.91717817 0.89144921 0.92448716\n",
      " 0.92849837 0.92749216]\n",
      "0.9140635490569742\n",
      "0.011997937430740383\n"
     ]
    }
   ],
   "source": [
    "from sklearn.model_selection import cross_val_score\n",
    "model=[LinearRegression(),Lasso(),Ridge(),RandomForestRegressor(),AdaBoostRegressor()]\n",
    "for m in model:\n",
    "    score=cross_val_score(m,x,y,cv=8)\n",
    "    print(score)\n",
    "    print(score.mean())\n",
    "    print(score.std())"
   ]
  },
  {
   "cell_type": "code",
   "execution_count": null,
   "metadata": {},
   "outputs": [],
   "source": [
    "#as per analysis RandomForestReagressor has cross_val_score"
   ]
  },
  {
   "cell_type": "code",
   "execution_count": 50,
   "metadata": {},
   "outputs": [
    {
     "data": {
      "text/plain": [
       "['rfr.salary.pkl']"
      ]
     },
     "execution_count": 50,
     "metadata": {},
     "output_type": "execute_result"
    }
   ],
   "source": [
    "from sklearn.externals import joblib\n",
    "joblib.dump(rfr,'rfr.salary.pkl')"
   ]
  },
  {
   "cell_type": "code",
   "execution_count": null,
   "metadata": {},
   "outputs": [],
   "source": []
  },
  {
   "cell_type": "code",
   "execution_count": null,
   "metadata": {},
   "outputs": [],
   "source": []
  },
  {
   "cell_type": "code",
   "execution_count": null,
   "metadata": {},
   "outputs": [],
   "source": []
  },
  {
   "cell_type": "code",
   "execution_count": null,
   "metadata": {},
   "outputs": [],
   "source": []
  },
  {
   "cell_type": "code",
   "execution_count": null,
   "metadata": {},
   "outputs": [],
   "source": []
  },
  {
   "cell_type": "code",
   "execution_count": null,
   "metadata": {},
   "outputs": [],
   "source": []
  },
  {
   "cell_type": "code",
   "execution_count": null,
   "metadata": {},
   "outputs": [],
   "source": []
  },
  {
   "cell_type": "code",
   "execution_count": null,
   "metadata": {},
   "outputs": [],
   "source": []
  },
  {
   "cell_type": "code",
   "execution_count": null,
   "metadata": {},
   "outputs": [],
   "source": []
  }
 ],
 "metadata": {
  "kernelspec": {
   "display_name": "Python 3",
   "language": "python",
   "name": "python3"
  },
  "language_info": {
   "codemirror_mode": {
    "name": "ipython",
    "version": 3
   },
   "file_extension": ".py",
   "mimetype": "text/x-python",
   "name": "python",
   "nbconvert_exporter": "python",
   "pygments_lexer": "ipython3",
   "version": "3.7.6"
  }
 },
 "nbformat": 4,
 "nbformat_minor": 4
}
